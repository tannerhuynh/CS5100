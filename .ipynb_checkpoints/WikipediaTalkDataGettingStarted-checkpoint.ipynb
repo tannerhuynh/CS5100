{
 "cells": [
  {
   "cell_type": "markdown",
   "metadata": {},
   "source": [
    "# Wikipedia Talk Data - Getting Started"
   ]
  },
  {
   "cell_type": "markdown",
   "metadata": {},
   "source": [
    "This notebook gives an introduction to working with the various data sets in [Wikipedia\n",
    "Talk](https://figshare.com/projects/Wikipedia_Talk/16731) project on Figshare. The release includes:\n",
    "\n",
    "1. a large historical corpus of discussion comments on Wikipedia talk pages\n",
    "2. a sample of over 100k comments with human labels for whether the comment contains a personal attack\n",
    "3. a sample of over 100k comments with human labels for whether the comment has aggressive tone\n",
    "\n",
    "Please refer to our [wiki](https://meta.wikimedia.org/wiki/Research:Detox/Data_Release) for documentation of the schema of each data set and our [research paper](https://arxiv.org/abs/1610.08914) for documentation on the data collection and modeling methodology. \n",
    "\n",
    "In this notebook we show how to build a simple classifier for detecting personal attacks and apply the classifier to a random sample of the comment corpus to see whether discussions on user pages have more personal attacks than discussion on article pages."
   ]
  },
  {
   "cell_type": "markdown",
   "metadata": {},
   "source": [
    "## Building a classifier for personal attacks\n",
    "In this section we will train a simple bag-of-words classifier for personal attacks using the [Wikipedia Talk Labels: Personal Attacks]() data set."
   ]
  },
  {
   "cell_type": "code",
   "execution_count": 2,
   "metadata": {},
   "outputs": [],
   "source": [
    "import pandas as pd\n",
    "import numpy as np\n",
    "import matplotlib.pyplot as plt\n",
    "import seaborn as sns\n",
    "import re\n",
    "import urllib.request, urllib.parse, urllib.error\n",
    "\n",
    "from imblearn.pipeline import Pipeline\n",
    "from imblearn.over_sampling import SMOTE\n",
    "from imblearn.under_sampling import RandomUnderSampler\n",
    "\n",
    "from sklearn.pipeline import FeatureUnion\n",
    "from sklearn.model_selection import GridSearchCV\n",
    "from sklearn.ensemble import RandomForestClassifier\n",
    "from sklearn.linear_model import LogisticRegression\n",
    "from sklearn.feature_extraction import text \n",
    "from sklearn.feature_extraction.text import TfidfVectorizer, CountVectorizer\n",
    "from sklearn.metrics import roc_auc_score, classification_report, confusion_matrix"
   ]
  },
  {
   "cell_type": "markdown",
   "metadata": {},
   "source": [
    "## Import data\n",
    "Use this section to import the data if you have not downloaded the files"
   ]
  },
  {
   "cell_type": "code",
   "execution_count": 2,
   "metadata": {},
   "outputs": [],
   "source": [
    "# download annotated comments and annotations\n",
    "ANNOTATED_COMMENTS_URL = 'https://ndownloader.figshare.com/files/7554634' \n",
    "ANNOTATIONS_URL = 'https://ndownloader.figshare.com/files/7554637' \n",
    "\n",
    "# def download_file(url, fname):\n",
    "#     urllib.request.urlretrieve(url, fname)\n",
    "\n",
    "                \n",
    "# download_file(ANNOTATED_COMMENTS_URL, 'attack_annotated_comments.tsv')\n",
    "# download_file(ANNOTATIONS_URL, 'attack_annotations.tsv')"
   ]
  },
  {
   "cell_type": "code",
   "execution_count": 3,
   "metadata": {},
   "outputs": [],
   "source": [
    "# reading the data\n",
    "comments = pd.read_csv('attack_annotated_comments.tsv', sep = '\\t', index_col = 0)\n",
    "annotations = pd.read_csv('attack_annotations.tsv',  sep = '\\t')"
   ]
  },
  {
   "cell_type": "markdown",
   "metadata": {},
   "source": [
    "## Labeling Data\n",
    "The data is labeled based on majority vote of which comments are attack."
   ]
  },
  {
   "cell_type": "code",
   "execution_count": 4,
   "metadata": {},
   "outputs": [],
   "source": [
    "# labels a comment as an attack if the majority of annoatators did so\n",
    "labels = annotations.groupby('rev_id')['attack'].mean() > 0.9"
   ]
  },
  {
   "cell_type": "code",
   "execution_count": 5,
   "metadata": {},
   "outputs": [],
   "source": [
    "# join labels and comments\n",
    "comments['attack'] = labels"
   ]
  },
  {
   "cell_type": "markdown",
   "metadata": {},
   "source": [
    "## Visualizing Data\n",
    "Plotting the data to get a better understanding of the balance. Here we see that there is a heavy imbalance of comments marked as attack versus not attacks. The data requires a use of strategies that work better for imbalanced datasets."
   ]
  },
  {
   "cell_type": "code",
   "execution_count": 6,
   "metadata": {},
   "outputs": [
    {
     "data": {
      "image/png": "[encoded data removed]",
      "text/plain": [
       "<Figure size 432x288 with 1 Axes>"
      ]
     },
     "metadata": {
      "needs_background": "light"
     },
     "output_type": "display_data"
    }
   ],
   "source": [
    "# plotting the attacks\n",
    "fig , ax = plt.subplots(figsize=(6,4))\n",
    "sns.countplot(x='attack', data=comments)\n",
    "plt.title(\"Count of Attacks\")\n",
    "plt.show()"
   ]
  },
  {
   "cell_type": "markdown",
   "metadata": {},
   "source": [
    "## Cleaning Data\n",
    "Extranneous information is removed from the comments. Here we removed unimportant tokens for new lines and tabs. The data is split up into two groups, one for training and the other for testing."
   ]
  },
  {
   "cell_type": "code",
   "execution_count": 32,
   "metadata": {
    "scrolled": false
   },
   "outputs": [
    {
     "data": {
      "image/png": "[encoded data removed]",
      "text/plain": [
       "<Figure size 432x288 with 1 Axes>"
      ]
     },
     "metadata": {
      "needs_background": "light"
     },
     "output_type": "display_data"
    },
    {
     "data": {
      "image/png": "[encoded data removed]",
      "text/plain": [
       "<Figure size 432x288 with 1 Axes>"
      ]
     },
     "metadata": {
      "needs_background": "light"
     },
     "output_type": "display_data"
    }
   ],
   "source": [
    "# remove newline, tab tokens, punctuation, and extra white spaces\n",
    "comments['comment'] = comments['comment'].apply(lambda x: x.replace(\"NEWLINE_TOKEN\", \" \"))\n",
    "comments['comment'] = comments['comment'].apply(lambda x: x.replace(\"TAB_TOKEN\", \" \"))\n",
    "comments['comment'] = comments['comment'].str.replace(' +', ' ')\n",
    "comments['comment'] = comments['comment'].str.replace('[^\\w\\s]', ' ')\n",
    "\n",
    "# splitting the data\n",
    "train_comments = comments.query(\"split=='train'\")\n",
    "test_comments = comments.query(\"split=='test'\")\n",
    "\n",
    "# bulking up the data\n",
    "dev_comments = comments.query(\"split=='dev'\")\n",
    "attack_comments = dev_comments.query(\"attack==True\")\n",
    "train_new_comments = train_comments.append(attack_comments)"
   ]
  },
  {
   "cell_type": "markdown",
   "metadata": {},
   "source": [
    "## Imblearn Pipelines\n",
    "Here we add a pipeline with hyperparamaters that take advantage of imblearn's under and over sampling strategies. The pipeline also generates artificial data with SMOTE and runs it through a classifier."
   ]
  },
  {
   "cell_type": "code",
   "execution_count": 30,
   "metadata": {
    "scrolled": true
   },
   "outputs": [],
   "source": [
    "# hyperparameters for the pipline\n",
    "param_grid = { \n",
    "    \"feature_union__vect_word__analyzer\": ['word'],\n",
    "    \"feature_union__vect_word__token_pattern\": [r'\\w{1,}'],\n",
    "    \"feature_union__vect_word__max_features\": [10000],\n",
    "    \"feature_union__vect_word__lowercase\": [True],\n",
    "    \"feature_union__vect_word__stop_words\": [text.ENGLISH_STOP_WORDS],\n",
    "    \"feature_union__vect_word__ngram_range\": [(1,1),(1,2)],\n",
    "    \"feature_union__vect_word__max_df\": [1.0],\n",
    "    \"feature_union__vect_word__min_df\": [1],\n",
    "    \"smote__k_neighbors\": [3,4],\n",
    "    \"smote__sampling_strategy\": [0.3, 0.2],\n",
    "    \"undersample__replacement\": [True],\n",
    "    \"undersample__sampling_strategy\": [0.7, 0.8]\n",
    "}\n",
    "\n",
    "feature_union = ('feature_union', FeatureUnion([\n",
    "    ('vect_word', TfidfVectorizer()),\n",
    "    ('vect_char', TfidfVectorizer()),\n",
    "]))\n",
    "\n",
    "# pipline for vectorizer, smote, undersampler, and classifier\n",
    "clf = Pipeline(steps=[\n",
    "    feature_union,\n",
    "    ('smote', SMOTE()),\n",
    "    ('undersample',RandomUnderSampler()),\n",
    "    ('classifier', LogisticRegression())])\n",
    "\n",
    "# grid search \n",
    "grid_search = GridSearchCV(clf, \n",
    "                           param_grid=param_grid, \n",
    "                           verbose=10, \n",
    "                           n_jobs=-1)"
   ]
  },
  {
   "cell_type": "markdown",
   "metadata": {},
   "source": [
    "## Fitting and Scoring\n",
    "Here we fit the model and print out the scores to see how well the model generalizes."
   ]
  },
  {
   "cell_type": "code",
   "execution_count": 31,
   "metadata": {
    "scrolled": false
   },
   "outputs": [
    {
     "name": "stdout",
     "output_type": "stream",
     "text": [
      "Fitting 5 folds for each of 16 candidates, totalling 80 fits\n"
     ]
    },
    {
     "name": "stderr",
     "output_type": "stream",
     "text": [
      "[Parallel(n_jobs=-1)]: Using backend LokyBackend with 12 concurrent workers.\n",
      "[Parallel(n_jobs=-1)]: Done   1 tasks      | elapsed:   23.4s\n",
      "[Parallel(n_jobs=-1)]: Done   8 tasks      | elapsed:   25.6s\n",
      "[Parallel(n_jobs=-1)]: Done  17 tasks      | elapsed:   50.4s\n",
      "[Parallel(n_jobs=-1)]: Done  26 tasks      | elapsed:  1.3min\n",
      "[Parallel(n_jobs=-1)]: Done  37 tasks      | elapsed:  1.6min\n",
      "[Parallel(n_jobs=-1)]: Done  48 tasks      | elapsed:  2.1min\n",
      "[Parallel(n_jobs=-1)]: Done  66 out of  80 | elapsed:  3.3min remaining:   42.6s\n",
      "[Parallel(n_jobs=-1)]: Done  75 out of  80 | elapsed:  3.6min remaining:   14.2s\n",
      "[Parallel(n_jobs=-1)]: Done  80 out of  80 | elapsed:  3.7min finished\n"
     ]
    },
    {
     "name": "stdout",
     "output_type": "stream",
     "text": [
      "              precision    recall  f1-score   support\n",
      "\n",
      "       False       0.99      0.97      0.98     22457\n",
      "        True       0.50      0.80      0.62       721\n",
      "\n",
      "    accuracy                           0.97     23178\n",
      "   macro avg       0.75      0.89      0.80     23178\n",
      "weighted avg       0.98      0.97      0.97     23178\n",
      "\n",
      "[[21888   569]\n",
      " [  147   574]]\n",
      "Test ROC AUC: 0.973\n"
     ]
    }
   ],
   "source": [
    "# fit the model\n",
    "clf_grid = grid_search.fit(train_new_comments['comment'], train_new_comments['attack'])\n",
    "\n",
    "# true values and predictions\n",
    "truevals = test_comments['attack']\n",
    "prd = clf_grid.predict(test_comments['comment'])\n",
    "\n",
    "auc = roc_auc_score(test_comments['attack'], clf_grid.predict_proba(test_comments['comment'])[:, 1])\n",
    "\n",
    "# print scores\n",
    "print(classification_report(truevals, prd))\n",
    "print(confusion_matrix(truevals, prd))\n",
    "print('Test ROC AUC: %.3f' %auc)"
   ]
  },
  {
   "cell_type": "markdown",
   "metadata": {},
   "source": [
    "## Examples\n",
    "Demo of how the classifier works."
   ]
  },
  {
   "cell_type": "code",
   "execution_count": 71,
   "metadata": {},
   "outputs": [
    {
     "data": {
      "text/plain": [
       "array([False])"
      ]
     },
     "execution_count": 71,
     "metadata": {},
     "output_type": "execute_result"
    }
   ],
   "source": [
    "# correctly classify nice comment\n",
    "clf_grid.predict(['Thanks for you contribution, you did a great job!'])"
   ]
  },
  {
   "cell_type": "code",
   "execution_count": 80,
   "metadata": {},
   "outputs": [
    {
     "data": {
      "text/plain": [
       "array([ True])"
      ]
     },
     "execution_count": 80,
     "metadata": {},
     "output_type": "execute_result"
    }
   ],
   "source": [
    "# correctly classify nasty comment\n",
    "clf_grid.predict(['I hate you so much! Go to Hell.'])"
   ]
  },
  {
   "cell_type": "markdown",
   "metadata": {},
   "source": [
    "## Sklearn Pipelines\n",
    "Here we model the data using Sklearn's resampling for comparison."
   ]
  },
  {
   "cell_type": "code",
   "execution_count": 28,
   "metadata": {},
   "outputs": [],
   "source": [
    "# hyperparameters for the pipline\n",
    "sklearn_param_grid = { \n",
    "    \"vect_word__analyzer\": ['word'],\n",
    "    \"vect_word__token_pattern\": [r'\\w{1,}'],\n",
    "    \"vect_word__max_features\": [1000],\n",
    "    \"vect_word__lowercase\": [True],\n",
    "    \"vect_word__stop_words\": [text.ENGLISH_STOP_WORDS],\n",
    "    \"vect_word__ngram_range\": [(1,2),(1,3)],\n",
    "    \"vect_word__max_df\": [1.0],\n",
    "    \"vect_word__min_df\": [1],\n",
    "    \"classifier__max_depth\": [20],\n",
    "    \"classifier__criterion\": [\"gini\", \"entropy\"],\n",
    "    \"classifier__class_weight\": [{0:1,1:15}]\n",
    "}\n",
    "\n",
    "# pipline for vectorizer, resampling, and classifier\n",
    "sklearn_clf = Pipeline(steps=[\n",
    "    ('vect_word', TfidfVectorizer()),\n",
    "    ('classifier', RandomForestClassifier())])\n",
    "\n",
    "# grid search \n",
    "sklearn_grid_search = GridSearchCV(sklearn_clf, \n",
    "                           param_grid=sklearn_param_grid, \n",
    "                           verbose=10, \n",
    "                           n_jobs=-1)"
   ]
  },
  {
   "cell_type": "markdown",
   "metadata": {},
   "source": [
    "## Sklearn Fitting and Scoring\n",
    "Here we fit the model and print out the scores to see how well the model generalizes."
   ]
  },
  {
   "cell_type": "code",
   "execution_count": 29,
   "metadata": {},
   "outputs": [
    {
     "name": "stdout",
     "output_type": "stream",
     "text": [
      "Fitting 5 folds for each of 4 candidates, totalling 20 fits\n"
     ]
    },
    {
     "name": "stderr",
     "output_type": "stream",
     "text": [
      "[Parallel(n_jobs=-1)]: Using backend LokyBackend with 12 concurrent workers.\n",
      "[Parallel(n_jobs=-1)]: Done   3 out of  20 | elapsed:   37.8s remaining:  3.6min\n",
      "[Parallel(n_jobs=-1)]: Done   6 out of  20 | elapsed:   40.9s remaining:  1.6min\n",
      "[Parallel(n_jobs=-1)]: Done   9 out of  20 | elapsed:   56.5s remaining:  1.2min\n",
      "[Parallel(n_jobs=-1)]: Done  12 out of  20 | elapsed:   57.2s remaining:   38.2s\n",
      "[Parallel(n_jobs=-1)]: Done  15 out of  20 | elapsed:  1.2min remaining:   24.1s\n",
      "[Parallel(n_jobs=-1)]: Done  18 out of  20 | elapsed:  1.4min remaining:    9.3s\n",
      "[Parallel(n_jobs=-1)]: Done  20 out of  20 | elapsed:  1.6min finished\n"
     ]
    },
    {
     "name": "stdout",
     "output_type": "stream",
     "text": [
      "              precision    recall  f1-score   support\n",
      "\n",
      "       False       0.99      0.98      0.98     22457\n",
      "        True       0.52      0.68      0.59       721\n",
      "\n",
      "    accuracy                           0.97     23178\n",
      "   macro avg       0.75      0.83      0.79     23178\n",
      "weighted avg       0.97      0.97      0.97     23178\n",
      "\n",
      "[[21997   460]\n",
      " [  231   490]]\n",
      "Test ROC AUC: 0.947\n"
     ]
    }
   ],
   "source": [
    "# fit the model\n",
    "sklearn_clf_grid = sklearn_grid_search.fit(train_new_comments['comment'], train_new_comments['attack'])\n",
    "\n",
    "# true values and predictions\n",
    "truevals = test_comments['attack']\n",
    "prd = sklearn_clf_grid.predict(test_comments['comment'])\n",
    "\n",
    "auc = roc_auc_score(test_comments['attack'], sklearn_clf_grid.predict_proba(test_comments['comment'])[:, 1])\n",
    "\n",
    "# print scores\n",
    "print(classification_report(truevals, prd))\n",
    "print(confusion_matrix(truevals, prd))\n",
    "print('Test ROC AUC: %.3f' %auc)"
   ]
  }
 ],
 "metadata": {
  "anaconda-cloud": {},
  "kernelspec": {
   "display_name": "Python 3",
   "language": "python",
   "name": "python3"
  }
 },
 "nbformat": 4,
 "nbformat_minor": 1
}
