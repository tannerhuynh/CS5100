{
 "cells": [
  {
   "cell_type": "markdown",
   "metadata": {},
   "source": [
    "# Wikipedia Talk Data - Getting Started"
   ]
  },
  {
   "cell_type": "markdown",
   "metadata": {},
   "source": [
    "This notebook gives an introduction to working with the various data sets in [Wikipedia\n",
    "Talk](https://figshare.com/projects/Wikipedia_Talk/16731) project on Figshare. The release includes:\n",
    "\n",
    "1. a large historical corpus of discussion comments on Wikipedia talk pages\n",
    "2. a sample of over 100k comments with human labels for whether the comment contains a personal attack\n",
    "3. a sample of over 100k comments with human labels for whether the comment has aggressive tone\n",
    "\n",
    "Please refer to our [wiki](https://meta.wikimedia.org/wiki/Research:Detox/Data_Release) for documentation of the schema of each data set and our [research paper](https://arxiv.org/abs/1610.08914) for documentation on the data collection and modeling methodology. \n",
    "\n",
    "In this notebook we show how to build a simple classifier for detecting personal attacks and apply the classifier to a random sample of the comment corpus to see whether discussions on user pages have more personal attacks than discussion on article pages."
   ]
  },
  {
   "cell_type": "markdown",
   "metadata": {},
   "source": [
    "## Q & A\n",
    "\n",
    "The following code runs Python 3 and integrates Imblearn.\n",
    "\n",
    "**What text cleaning methods did you try? Which are the ones you included in the final code?**\n",
    "\n",
    "All the methods that I have tried were included in the code. I removed punctuation and extra spaces. In the vectorizer, I removed stop words and lowercased all tokens. I attempted a spellchecker, but that included the use of an API and more time. Unfortantely, I was not able to get that working.\n",
    "\n",
    "**What are the features you considered using? Which features did you use in the final code?**\n",
    "\n",
    "I considered using different n-grams for both word and character. I attempted different token patterns. I attempted different max features and included a library of stop words. Ultimately, the stop words, unigram, and max feature included in the code were the best results.\n",
    "\n",
    "**How did you decide to use the ‘attack’ information from different annotators? Did you average them, or use a number threshold, or did you use some other method to use this information?**\n",
    "\n",
    "I combined the training and development set and chose an average of above 0.5. As long as the majority of annontators agreed that the comment was an attack, than it should suffice to say that it was an attack. This would allow for less unbalanced combination. If I was stricter, say 0.9, this could lead to heavily unbalanced majority bias.\n",
    "\n",
    "**What optimizations did you add in your code, if any?**\n",
    "\n",
    "I used a imblearn pipeline with grid search parameters so that I can insert oversampling and undersampling into the pipeline. This also allowed me to use a formatted list of hyperparameters and implement cross validation.\n",
    "\n",
    "**What are the ML methods you tried out, and what were your best results with each method? Which was the best ML method you saw before tuning hyperparameters?**\n",
    "\n",
    "I tried all the linear models, gradient boosting, and tree models. I even tried using imblearn and added over and under sampling while generating artifical data. The best method, before hyperparameters, in Sklearn was definitely using decision tree classifiers, as they can deal with the imbalanced data better. However, Imblearn models provided more of an advantage in terms of samping and data generation which improved accuracy.\n",
    "\n",
    "**What hyper-parameter tuning did you do, and by how many percentage points did your accuracy go up because of hyper-parameter tuning?**\n",
    "\n",
    "For the randomforest classifier model, I tuned the max depth of the tree and the weight of the data. This greatly increased the recall from the strawman model; however, overall accuracy went down a little bit. For the imblearn model, I chose to sample 3 to 4 neighbors when generating artificial data. I also assigned custom sampling strategies for both over and undersampling and replaced the sampling. This definitely increased the auc roc of the model by 0.02 points.\n",
    "\n",
    "**What did you learn from the different metrics? Did you try cross-validation?**\n",
    "\n",
    "I did attempt cross-validation with GridSearchCV. This made the process easier. The problem with the dataset is that it is heavily imbalanced making the learning algorithm bias toward the majority data. Therefore, AUC ROC scores mean very little if the majority data is always leaning toward False. Therefore, I needed to look at the confusion matrix, precision, and recall values which indicate how many False Positives and False Negatives would be included in the output. This will help determine how to evaluate the performance of the algorithm. In my efforts, I tried my best to keep precision and recall leveled for True while maintaining the integrity of False values. This would hopefully, allow for equally less FN and FP. If the precision is high and the recall low for True, the algorithm would most likely predict more FP. This would be the opposite for FN, where precision is low and recall is high.\n",
    "\n",
    "**What are your best final Result Metrics? What is the increase in accuracy compared to the strawman figure? Which model gave you this performance?**\n",
    "\n",
    "There was a tremendous increase in recall for Attacks and increase in ROC score; however, the accuracy increased by very little. This resulted from the fact that it was already very high to begin with. Overall, this was a trade off for an increase in False Positives, or indicating a comment as an attack when it was not an attack. Where the strawman model could only predict half of the actual attacks as attacks, the improved model using over and under sampling was able to predict 80% of the attacks.\n",
    "\n",
    "**What is the most interesting thing you learned from doing the report?**\n",
    "\n",
    "There are various ways to deal with balanced and unbalanced data. While all methods produced varying results, the context and goal behind how you will use the data impacts how you want to arrive at the results. For example, for our model, the goal could be that we want to flag attacks, but not at the risk of flagging regular comments as attacks. Therefore, we would probably want to go with a model that produces a higher precision score for attacks. I chose to go the route that allows for more accurately labeled attacks at the risk of flagging regular comments as attacks. For unbalanced data, there are models to generate artificial data that could balance the data and help the algortihm perform better. Ultimately, there is no perfect algorithm and there will always be False Negatives or False Positives in the confusion matrix.\n",
    "\n",
    "**What was the hardest thing to do?**\n",
    "\n",
    "Hyperparameter tuning was the most difficult. The parameters had very little or cryptic documentation for some of them. At times, it felt like trial and error. Thus, the more folds or fits that occurs, the longer you have to wait to retrieve the results from the model. All of the models from Sklearn either increased recall but reduced precision or vice versa. I was unable to get the precision and recall to a high level. Imblearn allowed me to achieve this more accurately, although still not to the level that I would expect in this model."
   ]
  },
  {
   "cell_type": "markdown",
   "metadata": {},
   "source": [
    "## Building a classifier for personal attacks\n",
    "In this section we will train a simple bag-of-words classifier for personal attacks using the [Wikipedia Talk Labels: Personal Attacks]() data set."
   ]
  },
  {
   "cell_type": "code",
   "execution_count": 3,
   "metadata": {},
   "outputs": [],
   "source": [
    "import pandas as pd\n",
    "import numpy as np\n",
    "import matplotlib.pyplot as plt\n",
    "import seaborn as sns\n",
    "import re\n",
    "import urllib.request, urllib.parse, urllib.error\n",
    "\n",
    "from imblearn.pipeline import Pipeline\n",
    "from imblearn.over_sampling import SMOTE\n",
    "from imblearn.under_sampling import RandomUnderSampler\n",
    "\n",
    "from sklearn.pipeline import FeatureUnion\n",
    "from sklearn.model_selection import GridSearchCV\n",
    "from sklearn.ensemble import RandomForestClassifier\n",
    "from sklearn.linear_model import LogisticRegression\n",
    "from sklearn.feature_extraction import text \n",
    "from sklearn.feature_extraction.text import TfidfVectorizer, CountVectorizer, TfidfTransformer\n",
    "from sklearn.metrics import roc_auc_score, classification_report, confusion_matrix"
   ]
  },
  {
   "cell_type": "markdown",
   "metadata": {},
   "source": [
    "## Import data\n",
    "Use this section to import the data if you have not downloaded the files"
   ]
  },
  {
   "cell_type": "code",
   "execution_count": 4,
   "metadata": {},
   "outputs": [],
   "source": [
    "# download annotated comments and annotations\n",
    "ANNOTATED_COMMENTS_URL = 'https://ndownloader.figshare.com/files/7554634' \n",
    "ANNOTATIONS_URL = 'https://ndownloader.figshare.com/files/7554637' \n",
    "\n",
    "def download_file(url, fname):\n",
    "    urllib.request.urlretrieve(url, fname)\n",
    "\n",
    "                \n",
    "# download_file(ANNOTATED_COMMENTS_URL, 'attack_annotated_comments.tsv')\n",
    "# download_file(ANNOTATIONS_URL, 'attack_annotations.tsv')"
   ]
  },
  {
   "cell_type": "code",
   "execution_count": 5,
   "metadata": {},
   "outputs": [],
   "source": [
    "# reading the data\n",
    "comments = pd.read_csv('attack_annotated_comments.tsv', sep = '\\t', index_col = 0)\n",
    "annotations = pd.read_csv('attack_annotations.tsv',  sep = '\\t')"
   ]
  },
  {
   "cell_type": "markdown",
   "metadata": {},
   "source": [
    "## Labeling Data\n",
    "The data is labeled based on majority vote of which comments are attack."
   ]
  },
  {
   "cell_type": "code",
   "execution_count": 6,
   "metadata": {},
   "outputs": [],
   "source": [
    "# labels a comment as an attack if the majority of annoatators did so\n",
    "labels = annotations.groupby('rev_id')['attack'].mean() > 0.5"
   ]
  },
  {
   "cell_type": "code",
   "execution_count": 7,
   "metadata": {},
   "outputs": [],
   "source": [
    "# join labels and comments\n",
    "comments['attack'] = labels"
   ]
  },
  {
   "cell_type": "markdown",
   "metadata": {},
   "source": [
    "## Visualizing Data\n",
    "Plotting the data to get a better understanding of the balance. Here we see that there is a heavy imbalance of comments marked as attack versus not attacks. The data requires a use of strategies that work better for imbalanced datasets."
   ]
  },
  {
   "cell_type": "code",
   "execution_count": 8,
   "metadata": {},
   "outputs": [
    {
     "data": {
      "image/png": "[encoded data removed]",
      "text/plain": [
       "<Figure size 432x288 with 1 Axes>"
      ]
     },
     "metadata": {
      "needs_background": "light"
     },
     "output_type": "display_data"
    }
   ],
   "source": [
    "# plotting the attacks\n",
    "fig , ax = plt.subplots(figsize=(6,4))\n",
    "sns.countplot(x='attack', data=comments)\n",
    "plt.title(\"Count of Attacks\")\n",
    "plt.show()"
   ]
  },
  {
   "cell_type": "markdown",
   "metadata": {},
   "source": [
    "## Cleaning Data\n",
    "Extranneous information is removed from the comments. Here we removed unimportant tokens for new lines and tabs. The data is split up into two groups, one for training and the other for testing. Since the data is heavily imbalanced, we required additional data points from another table."
   ]
  },
  {
   "cell_type": "code",
   "execution_count": 9,
   "metadata": {
    "scrolled": false
   },
   "outputs": [],
   "source": [
    "# remove newline, tab tokens, punctuation, and extra white spaces\n",
    "comments['comment'] = comments['comment'].apply(lambda x: x.replace(\"NEWLINE_TOKEN\", \" \"))\n",
    "comments['comment'] = comments['comment'].apply(lambda x: x.replace(\"TAB_TOKEN\", \" \"))\n",
    "comments['comment'] = comments['comment'].str.replace(' +', ' ')\n",
    "comments['comment'] = comments['comment'].str.replace('[^\\w\\s]', ' ')\n",
    "\n",
    "# splitting the data\n",
    "train_comments = comments.query(\"split=='train'\")\n",
    "test_comments = comments.query(\"split=='test'\")\n",
    "\n",
    "# bulking up the data\n",
    "dev_comments = comments.query(\"split=='dev'\")\n",
    "attack_comments = dev_comments.query(\"attack==True\")\n",
    "train_new_comments = train_comments.append(attack_comments)"
   ]
  },
  {
   "cell_type": "markdown",
   "metadata": {},
   "source": [
    "## Imblearn Pipelines\n",
    "Here we add a pipeline with hyperparamaters that take advantage of imblearn's under and over sampling strategies. The pipeline also generates artificial data with SMOTE and runs it through a classifier."
   ]
  },
  {
   "cell_type": "code",
   "execution_count": 10,
   "metadata": {
    "scrolled": true
   },
   "outputs": [],
   "source": [
    "# hyperparameters for the pipline\n",
    "param_grid = { \n",
    "    \"feature_union__vect_word__analyzer\": ['word'],\n",
    "    \"feature_union__vect_word__token_pattern\": [r'\\w{1,}'],\n",
    "    \"feature_union__vect_word__max_features\": [10000],\n",
    "    \"feature_union__vect_word__lowercase\": [True],\n",
    "    \"feature_union__vect_word__stop_words\": [text.ENGLISH_STOP_WORDS],\n",
    "    \"feature_union__vect_word__ngram_range\": [(1,1),(1,2)],\n",
    "    \"feature_union__vect_word__max_df\": [1.0],\n",
    "    \"feature_union__vect_word__min_df\": [1],\n",
    "    \"smote__k_neighbors\": [3,4],\n",
    "    \"smote__sampling_strategy\": [0.3, 0.2],\n",
    "    \"undersample__replacement\": [True],\n",
    "    \"undersample__sampling_strategy\": [0.7, 0.8]\n",
    "}\n",
    "\n",
    "feature_union = ('feature_union', FeatureUnion([\n",
    "    ('vect_word', TfidfVectorizer()),\n",
    "    ('vect_char', TfidfVectorizer()),\n",
    "]))\n",
    "\n",
    "# pipline for vectorizer, smote, undersampler, and classifier\n",
    "clf = Pipeline(steps=[\n",
    "    feature_union,\n",
    "    ('smote', SMOTE()),\n",
    "    ('undersample',RandomUnderSampler()),\n",
    "    ('classifier', LogisticRegression(max_iter=10000))])\n",
    "\n",
    "# grid search \n",
    "grid_search = GridSearchCV(clf, \n",
    "                           param_grid=param_grid, \n",
    "                           verbose=10, \n",
    "                           n_jobs=-1)"
   ]
  },
  {
   "cell_type": "markdown",
   "metadata": {},
   "source": [
    "## Fitting and Scoring\n",
    "Here we fit the model and print out the scores to see how well the model generalizes."
   ]
  },
  {
   "cell_type": "code",
   "execution_count": 11,
   "metadata": {
    "scrolled": false
   },
   "outputs": [
    {
     "name": "stdout",
     "output_type": "stream",
     "text": [
      "Fitting 5 folds for each of 16 candidates, totalling 80 fits\n"
     ]
    },
    {
     "name": "stderr",
     "output_type": "stream",
     "text": [
      "[Parallel(n_jobs=-1)]: Using backend LokyBackend with 12 concurrent workers.\n",
      "[Parallel(n_jobs=-1)]: Done   1 tasks      | elapsed:  1.1min\n",
      "[Parallel(n_jobs=-1)]: Done   8 tasks      | elapsed:  1.2min\n",
      "[Parallel(n_jobs=-1)]: Done  17 tasks      | elapsed:  2.2min\n",
      "[Parallel(n_jobs=-1)]: Done  26 tasks      | elapsed:  3.0min\n",
      "[Parallel(n_jobs=-1)]: Done  37 tasks      | elapsed:  3.1min\n",
      "[Parallel(n_jobs=-1)]: Done  48 tasks      | elapsed:  4.5min\n",
      "[Parallel(n_jobs=-1)]: Done  66 out of  80 | elapsed:  7.0min remaining:  1.5min\n",
      "[Parallel(n_jobs=-1)]: Done  75 out of  80 | elapsed:  7.1min remaining:   28.5s\n",
      "[Parallel(n_jobs=-1)]: Done  80 out of  80 | elapsed:  7.5min finished\n"
     ]
    },
    {
     "name": "stdout",
     "output_type": "stream",
     "text": [
      "              precision    recall  f1-score   support\n",
      "\n",
      "       False       0.97      0.95      0.96     20422\n",
      "        True       0.70      0.80      0.75      2756\n",
      "\n",
      "    accuracy                           0.94     23178\n",
      "   macro avg       0.84      0.88      0.86     23178\n",
      "weighted avg       0.94      0.94      0.94     23178\n",
      "\n",
      "[[19491   931]\n",
      " [  556  2200]]\n",
      "Test ROC AUC: 0.960\n"
     ]
    }
   ],
   "source": [
    "# fit the model\n",
    "clf_grid = grid_search.fit(train_new_comments['comment'], train_new_comments['attack'])\n",
    "\n",
    "# true values and predictions\n",
    "truevals = test_comments['attack']\n",
    "prd = clf_grid.predict(test_comments['comment'])\n",
    "\n",
    "auc = roc_auc_score(test_comments['attack'], clf_grid.predict_proba(test_comments['comment'])[:, 1])\n",
    "\n",
    "# print scores\n",
    "print(classification_report(truevals, prd))\n",
    "print(confusion_matrix(truevals, prd))\n",
    "print('Test ROC AUC: %.3f' %auc)"
   ]
  },
  {
   "cell_type": "markdown",
   "metadata": {},
   "source": [
    "## Examples\n",
    "Demo of how the classifier works."
   ]
  },
  {
   "cell_type": "code",
   "execution_count": 12,
   "metadata": {},
   "outputs": [
    {
     "data": {
      "text/plain": [
       "array([False])"
      ]
     },
     "execution_count": 12,
     "metadata": {},
     "output_type": "execute_result"
    }
   ],
   "source": [
    "# correctly classify nice comment\n",
    "clf_grid.predict(['Thanks for you contribution, you did a great job!'])"
   ]
  },
  {
   "cell_type": "code",
   "execution_count": 14,
   "metadata": {},
   "outputs": [
    {
     "data": {
      "text/plain": [
       "array([ True])"
      ]
     },
     "execution_count": 14,
     "metadata": {},
     "output_type": "execute_result"
    }
   ],
   "source": [
    "# correctly classify nasty comment\n",
    "clf_grid.predict(['I hate you so much! Go to Hell.'])"
   ]
  },
  {
   "cell_type": "markdown",
   "metadata": {},
   "source": [
    "## Sklearn Pipelines\n",
    "Here we model the data using Sklearn's resampling for comparison."
   ]
  },
  {
   "cell_type": "code",
   "execution_count": 17,
   "metadata": {},
   "outputs": [],
   "source": [
    "# hyperparameters for the pipline\n",
    "sklearn_param_grid = { \n",
    "    \"vect_word__analyzer\": ['word'],\n",
    "    \"vect_word__token_pattern\": [r'\\w{1,}'],\n",
    "    \"vect_word__max_features\": [10000],\n",
    "    \"vect_word__lowercase\": [True],\n",
    "    \"vect_word__stop_words\": [text.ENGLISH_STOP_WORDS],\n",
    "    \"vect_word__ngram_range\": [(1,2),(1,3)],\n",
    "    \"vect_word__max_df\": [1.0],\n",
    "    \"vect_word__min_df\": [1],\n",
    "    \"classifier__max_depth\": [20],\n",
    "    \"classifier__criterion\": [\"gini\", \"entropy\"],\n",
    "    \"classifier__n_estimators\": [1000],\n",
    "    \"classifier__class_weight\": [{0:1,1:5}]\n",
    "}\n",
    "\n",
    "# pipline for vectorizer, resampling, and classifier\n",
    "sklearn_clf = Pipeline(steps=[\n",
    "    ('vect_word', TfidfVectorizer()),\n",
    "    ('classifier', RandomForestClassifier())])\n",
    "\n",
    "# grid search \n",
    "sklearn_grid_search = GridSearchCV(sklearn_clf, \n",
    "                           param_grid=sklearn_param_grid, \n",
    "                           verbose=10, \n",
    "                           n_jobs=-1)"
   ]
  },
  {
   "cell_type": "markdown",
   "metadata": {},
   "source": [
    "## Sklearn Fitting and Scoring\n",
    "Here we fit the model and print out the scores to see how well the model generalizes."
   ]
  },
  {
   "cell_type": "code",
   "execution_count": 18,
   "metadata": {},
   "outputs": [
    {
     "name": "stdout",
     "output_type": "stream",
     "text": [
      "Fitting 5 folds for each of 4 candidates, totalling 20 fits\n"
     ]
    },
    {
     "name": "stderr",
     "output_type": "stream",
     "text": [
      "[Parallel(n_jobs=-1)]: Using backend LokyBackend with 12 concurrent workers.\n",
      "[Parallel(n_jobs=-1)]: Done   3 out of  20 | elapsed:  2.8min remaining: 15.6min\n",
      "[Parallel(n_jobs=-1)]: Done   6 out of  20 | elapsed:  3.0min remaining:  7.0min\n",
      "[Parallel(n_jobs=-1)]: Done   9 out of  20 | elapsed:  3.2min remaining:  3.9min\n",
      "[Parallel(n_jobs=-1)]: Done  12 out of  20 | elapsed:  3.2min remaining:  2.1min\n",
      "[Parallel(n_jobs=-1)]: Done  15 out of  20 | elapsed:  4.8min remaining:  1.6min\n",
      "[Parallel(n_jobs=-1)]: Done  18 out of  20 | elapsed:  5.1min remaining:   33.9s\n",
      "[Parallel(n_jobs=-1)]: Done  20 out of  20 | elapsed:  5.1min finished\n"
     ]
    },
    {
     "name": "stdout",
     "output_type": "stream",
     "text": [
      "              precision    recall  f1-score   support\n",
      "\n",
      "       False       0.95      0.98      0.96     20422\n",
      "        True       0.81      0.60      0.69      2756\n",
      "\n",
      "    accuracy                           0.94     23178\n",
      "   macro avg       0.88      0.79      0.83     23178\n",
      "weighted avg       0.93      0.94      0.93     23178\n",
      "\n",
      "[[20039   383]\n",
      " [ 1103  1653]]\n",
      "Test ROC AUC: 0.901\n"
     ]
    }
   ],
   "source": [
    "# fit the model\n",
    "sklearn_clf_grid = sklearn_grid_search.fit(train_new_comments['comment'], train_new_comments['attack'])\n",
    "\n",
    "# true values and predictions\n",
    "truevals = test_comments['attack']\n",
    "prd = sklearn_clf_grid.predict(test_comments['comment'])\n",
    "\n",
    "auc = roc_auc_score(test_comments['attack'], sklearn_clf_grid.predict_proba(test_comments['comment'])[:, 1])\n",
    "\n",
    "# print scores\n",
    "print(classification_report(truevals, prd))\n",
    "print(confusion_matrix(truevals, prd))\n",
    "print('Test ROC AUC: %.3f' %auc)"
   ]
  }
 ],
 "metadata": {
  "anaconda-cloud": {},
  "kernelspec": {
   "display_name": "Python 3",
   "language": "python",
   "name": "python3"
  },
  "language_info": {
   "codemirror_mode": {
    "name": "ipython",
    "version": 3
   },
   "file_extension": ".py",
   "mimetype": "text/x-python",
   "name": "python",
   "nbconvert_exporter": "python",
   "pygments_lexer": "ipython3",
   "version": "3.7.6"
  }
 },
 "nbformat": 4,
 "nbformat_minor": 1
}
